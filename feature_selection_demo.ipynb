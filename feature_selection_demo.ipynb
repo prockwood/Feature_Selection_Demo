{
 "cells": [
  {
   "cell_type": "markdown",
   "id": "f470aa6d-2741-4fa8-9eba-feb1832a846b",
   "metadata": {
    "tags": []
   },
   "source": [
    "## Feature Selection\n",
    "\n",
    "- Models can be made simpler, more efficient and even more effective by dropping uninformative features.\n",
    "- There are 2 broad catagories of Feature Selection methods, these are usually supervised:\n",
    "    - **Wrapper Feature Selection** (searches for well-performing subsets of features)\n",
    "        - Essentially runs a model and many times with different subsets of features and picks which subsets contribute to the best scores.\n",
    "        - *RFE* is a common method of this type. Using an estimator that outputs feature importances, fits estimator, prunes least important features, fits again etc... until the desired number of features is left.\n",
    "        \n",
    "    - **Filter Feature Selection** (selects subsets of features based on statistical comparisons of input-features and target)\n",
    "        - Commonly correlation statistical measures are used, the type is dependent in input and output data types. See [here](https://machinelearningmastery.com/feature-selection-with-real-and-categorical-data/) for a flow chart.\n",
    "        - Filter methods compare features to target one at a time, so feature interaction may be lost.\n",
    "        \n",
    "- Also there are models where feature importance is an inherent output, decision tree models for example. These are refered to as intrinsic. \n",
    "\n",
    "- Dimensionality reduction methods serve similar purposes as feature selection methods, but should considered as an alternative or performed after feature selection."
   ]
  },
  {
   "cell_type": "markdown",
   "id": "1f99c0b7-6430-492a-9623-65a59fac5218",
   "metadata": {},
   "source": [
    "### Filter Example\n",
    "- ANOVA feature selection for numeric input and categorical output\n",
    "- We'll use the sklearn's SelectKBest() with f-classif(i.e. ANOVA) as our statistical test.\n",
    "- Using a breast-cancer dataset from kaggle. Features are physical characteristics of cell samples from tumor masses. We are predicting malignant vs benign cancers."
   ]
  },
  {
   "cell_type": "code",
   "execution_count": 1,
   "id": "6ac644fe-bc29-4637-bf32-f0f9794c4e2f",
   "metadata": {
    "tags": []
   },
   "outputs": [],
   "source": [
    "import pandas as pd\n",
    "from sklearn.datasets import make_classification\n",
    "from sklearn.feature_selection import SelectKBest\n",
    "from sklearn.feature_selection import f_classif"
   ]
  },
  {
   "cell_type": "code",
   "execution_count": 2,
   "id": "101a6731-f657-48e8-8b35-ed6f190656a5",
   "metadata": {},
   "outputs": [],
   "source": [
    "bcdf = pd.read_csv('breast_cancer.csv')"
   ]
  },
  {
   "cell_type": "code",
   "execution_count": 3,
   "id": "f8e464c1-9ac5-4ed4-ae74-1b668a1cae1d",
   "metadata": {},
   "outputs": [
    {
     "data": {
      "text/plain": [
       "(569, 33)"
      ]
     },
     "execution_count": 3,
     "metadata": {},
     "output_type": "execute_result"
    }
   ],
   "source": [
    "bcdf.shape\n",
    "# 33 features"
   ]
  },
  {
   "cell_type": "code",
   "execution_count": 4,
   "id": "d425cd10-e437-4c9d-ab1f-cc0e8a97734d",
   "metadata": {},
   "outputs": [
    {
     "data": {
      "text/plain": [
       "0"
      ]
     },
     "execution_count": 4,
     "metadata": {},
     "output_type": "execute_result"
    }
   ],
   "source": [
    "bcdf['Unnamed: 32'].nunique() # garbage feature"
   ]
  },
  {
   "cell_type": "code",
   "execution_count": 5,
   "id": "db1ce89a-4def-4b3d-96e3-6d8d8af774cd",
   "metadata": {},
   "outputs": [],
   "source": [
    "# dropping un-useful columns\n",
    "bcdf.drop(['Unnamed: 32', 'id'], axis=1, inplace=True)"
   ]
  },
  {
   "cell_type": "code",
   "execution_count": 6,
   "id": "73c9193c-e49f-4ca1-9541-fcfcff3e0570",
   "metadata": {},
   "outputs": [],
   "source": [
    "# feature/target slice\n",
    "target = 'diagnosis'\n",
    "\n",
    "X = bcdf.drop(target, axis=1)\n",
    "y = bcdf[target]"
   ]
  },
  {
   "cell_type": "code",
   "execution_count": 7,
   "id": "009e6434-70e1-41f3-bd18-4c8210d591c7",
   "metadata": {},
   "outputs": [
    {
     "data": {
      "text/plain": [
       "B    0.627417\n",
       "M    0.372583\n",
       "Name: diagnosis, dtype: float64"
      ]
     },
     "execution_count": 7,
     "metadata": {},
     "output_type": "execute_result"
    }
   ],
   "source": [
    "y.value_counts(normalize=True)\n",
    "# a bit unbalanced but ok for demo"
   ]
  },
  {
   "cell_type": "code",
   "execution_count": 8,
   "id": "d4a76a61-d9bd-4a34-856f-6566b49f4950",
   "metadata": {},
   "outputs": [],
   "source": [
    "# convert target from 'B'/'M' to 0/1\n",
    "y = y.apply(lambda x: 1 if x == 'M' else 0) "
   ]
  },
  {
   "cell_type": "code",
   "execution_count": 9,
   "id": "d49e212b-91ac-4f10-9f56-d0fbee4eb090",
   "metadata": {},
   "outputs": [],
   "source": [
    "# train test split\n",
    "from sklearn.model_selection import train_test_split\n",
    "\n",
    "X_train, X_test, y_train, y_test = train_test_split(X, y, test_size=0.33, random_state=42)"
   ]
  },
  {
   "cell_type": "code",
   "execution_count": 10,
   "id": "07e1066f-1409-4b8c-843e-7ccb4e862f9a",
   "metadata": {},
   "outputs": [],
   "source": [
    "# Create and fit selector, lets take the top 5 features\n",
    "selector = SelectKBest(f_classif, k=5)\n",
    "selector.fit(X_train, y_train)\n",
    "# Get columns to keep and create new dataframe with those only\n",
    "cols = selector.get_support(indices=True)\n",
    "X_train_filt = X_train.iloc[:,cols]"
   ]
  },
  {
   "cell_type": "code",
   "execution_count": 11,
   "id": "207d4985-02cb-4c0a-9b4f-a5ea598c448b",
   "metadata": {},
   "outputs": [
    {
     "name": "stdout",
     "output_type": "stream",
     "text": [
      "(381, 5)\n"
     ]
    }
   ],
   "source": [
    "print(X_train_filt.shape)"
   ]
  },
  {
   "cell_type": "code",
   "execution_count": 12,
   "id": "c08c2e69-6adf-4f74-be79-bef8b570e640",
   "metadata": {},
   "outputs": [
    {
     "data": {
      "text/html": [
       "<div>\n",
       "<style scoped>\n",
       "    .dataframe tbody tr th:only-of-type {\n",
       "        vertical-align: middle;\n",
       "    }\n",
       "\n",
       "    .dataframe tbody tr th {\n",
       "        vertical-align: top;\n",
       "    }\n",
       "\n",
       "    .dataframe thead th {\n",
       "        text-align: right;\n",
       "    }\n",
       "</style>\n",
       "<table border=\"1\" class=\"dataframe\">\n",
       "  <thead>\n",
       "    <tr style=\"text-align: right;\">\n",
       "      <th></th>\n",
       "      <th>perimeter_mean</th>\n",
       "      <th>concave points_mean</th>\n",
       "      <th>radius_worst</th>\n",
       "      <th>perimeter_worst</th>\n",
       "      <th>concave points_worst</th>\n",
       "    </tr>\n",
       "  </thead>\n",
       "  <tbody>\n",
       "    <tr>\n",
       "      <th>172</th>\n",
       "      <td>102.50</td>\n",
       "      <td>0.10970</td>\n",
       "      <td>18.79</td>\n",
       "      <td>125.00</td>\n",
       "      <td>0.18270</td>\n",
       "    </tr>\n",
       "    <tr>\n",
       "      <th>407</th>\n",
       "      <td>82.63</td>\n",
       "      <td>0.01867</td>\n",
       "      <td>14.40</td>\n",
       "      <td>91.63</td>\n",
       "      <td>0.05601</td>\n",
       "    </tr>\n",
       "    <tr>\n",
       "      <th>56</th>\n",
       "      <td>125.50</td>\n",
       "      <td>0.08994</td>\n",
       "      <td>26.14</td>\n",
       "      <td>170.10</td>\n",
       "      <td>0.20910</td>\n",
       "    </tr>\n",
       "    <tr>\n",
       "      <th>497</th>\n",
       "      <td>80.45</td>\n",
       "      <td>0.02369</td>\n",
       "      <td>14.06</td>\n",
       "      <td>92.82</td>\n",
       "      <td>0.10530</td>\n",
       "    </tr>\n",
       "    <tr>\n",
       "      <th>301</th>\n",
       "      <td>80.43</td>\n",
       "      <td>0.03099</td>\n",
       "      <td>13.46</td>\n",
       "      <td>88.13</td>\n",
       "      <td>0.07625</td>\n",
       "    </tr>\n",
       "  </tbody>\n",
       "</table>\n",
       "</div>"
      ],
      "text/plain": [
       "     perimeter_mean  concave points_mean  radius_worst  perimeter_worst  \\\n",
       "172          102.50              0.10970         18.79           125.00   \n",
       "407           82.63              0.01867         14.40            91.63   \n",
       "56           125.50              0.08994         26.14           170.10   \n",
       "497           80.45              0.02369         14.06            92.82   \n",
       "301           80.43              0.03099         13.46            88.13   \n",
       "\n",
       "     concave points_worst  \n",
       "172               0.18270  \n",
       "407               0.05601  \n",
       "56                0.20910  \n",
       "497               0.10530  \n",
       "301               0.07625  "
      ]
     },
     "execution_count": 12,
     "metadata": {},
     "output_type": "execute_result"
    }
   ],
   "source": [
    "X_train_filt.head()"
   ]
  },
  {
   "cell_type": "markdown",
   "id": "346feffb-7aaa-4cbf-b801-216a9061b381",
   "metadata": {},
   "source": [
    "### Wrapper Example\n",
    "- Using SKlearns RFE() using DecisionTreeClassifier as the estimator\n",
    "- Again keeping best 5 features\n"
   ]
  },
  {
   "cell_type": "code",
   "execution_count": 13,
   "id": "1774f68c-06d7-4dd0-8de7-0a45261c5978",
   "metadata": {},
   "outputs": [
    {
     "data": {
      "text/html": [
       "<div>\n",
       "<style scoped>\n",
       "    .dataframe tbody tr th:only-of-type {\n",
       "        vertical-align: middle;\n",
       "    }\n",
       "\n",
       "    .dataframe tbody tr th {\n",
       "        vertical-align: top;\n",
       "    }\n",
       "\n",
       "    .dataframe thead th {\n",
       "        text-align: right;\n",
       "    }\n",
       "</style>\n",
       "<table border=\"1\" class=\"dataframe\">\n",
       "  <thead>\n",
       "    <tr style=\"text-align: right;\">\n",
       "      <th></th>\n",
       "      <th>texture_mean</th>\n",
       "      <th>concave points_mean</th>\n",
       "      <th>radius_worst</th>\n",
       "      <th>perimeter_worst</th>\n",
       "      <th>concavity_worst</th>\n",
       "    </tr>\n",
       "  </thead>\n",
       "  <tbody>\n",
       "    <tr>\n",
       "      <th>172</th>\n",
       "      <td>11.89</td>\n",
       "      <td>0.10970</td>\n",
       "      <td>18.79</td>\n",
       "      <td>125.00</td>\n",
       "      <td>0.5830</td>\n",
       "    </tr>\n",
       "    <tr>\n",
       "      <th>407</th>\n",
       "      <td>21.37</td>\n",
       "      <td>0.01867</td>\n",
       "      <td>14.40</td>\n",
       "      <td>91.63</td>\n",
       "      <td>0.1838</td>\n",
       "    </tr>\n",
       "    <tr>\n",
       "      <th>56</th>\n",
       "      <td>18.57</td>\n",
       "      <td>0.08994</td>\n",
       "      <td>26.14</td>\n",
       "      <td>170.10</td>\n",
       "      <td>0.3879</td>\n",
       "    </tr>\n",
       "    <tr>\n",
       "      <th>497</th>\n",
       "      <td>17.31</td>\n",
       "      <td>0.02369</td>\n",
       "      <td>14.06</td>\n",
       "      <td>92.82</td>\n",
       "      <td>0.2028</td>\n",
       "    </tr>\n",
       "    <tr>\n",
       "      <th>301</th>\n",
       "      <td>19.89</td>\n",
       "      <td>0.03099</td>\n",
       "      <td>13.46</td>\n",
       "      <td>88.13</td>\n",
       "      <td>0.1904</td>\n",
       "    </tr>\n",
       "  </tbody>\n",
       "</table>\n",
       "</div>"
      ],
      "text/plain": [
       "     texture_mean  concave points_mean  radius_worst  perimeter_worst  \\\n",
       "172         11.89              0.10970         18.79           125.00   \n",
       "407         21.37              0.01867         14.40            91.63   \n",
       "56          18.57              0.08994         26.14           170.10   \n",
       "497         17.31              0.02369         14.06            92.82   \n",
       "301         19.89              0.03099         13.46            88.13   \n",
       "\n",
       "     concavity_worst  \n",
       "172           0.5830  \n",
       "407           0.1838  \n",
       "56            0.3879  \n",
       "497           0.2028  \n",
       "301           0.1904  "
      ]
     },
     "execution_count": 13,
     "metadata": {},
     "output_type": "execute_result"
    }
   ],
   "source": [
    "from sklearn.feature_selection import RFE\n",
    "from sklearn.tree import DecisionTreeClassifier\n",
    "\n",
    "rfe = RFE(estimator=DecisionTreeClassifier(), n_features_to_select=5)\n",
    "\n",
    "rfe.fit(X_train, y_train)\n",
    "cols = rfe.get_support(indices=True)\n",
    "X_train_wrap = X_train.iloc[:,cols]\n",
    "X_train_wrap.head()"
   ]
  },
  {
   "cell_type": "markdown",
   "id": "39ff806c-13b9-4e3f-b04f-cfb2f283d361",
   "metadata": {},
   "source": [
    "- Filter and Wrapper methods selected 3 of 5 same features "
   ]
  },
  {
   "cell_type": "code",
   "execution_count": 14,
   "id": "5fb236eb-484c-43bc-ac45-3ed220397b0a",
   "metadata": {},
   "outputs": [],
   "source": [
    "from sklearn.ensemble import RandomForestClassifier\n",
    "\n",
    "rfc = RandomForestClassifier()\n",
    "rfc.fit(X_train, y_train)\n",
    "\n",
    "pred = rfc.predict(X_test)"
   ]
  },
  {
   "cell_type": "code",
   "execution_count": 25,
   "id": "80a5cd5e-b3b3-47dc-8c28-60690d1fe5e5",
   "metadata": {},
   "outputs": [
    {
     "name": "stdout",
     "output_type": "stream",
     "text": [
      "0.9574468085106383\n",
      "              precision    recall  f1-score   support\n",
      "\n",
      "           0       0.95      0.98      0.97       121\n",
      "           1       0.97      0.91      0.94        67\n",
      "\n",
      "    accuracy                           0.96       188\n",
      "   macro avg       0.96      0.95      0.95       188\n",
      "weighted avg       0.96      0.96      0.96       188\n",
      "\n"
     ]
    }
   ],
   "source": [
    "from sklearn.metrics import accuracy_score\n",
    "from sklearn.metrics import classification_report\n",
    "print(accuracy_score(y_test, pred))\n",
    "print(classification_report(y_test, pred))"
   ]
  },
  {
   "cell_type": "code",
   "execution_count": 27,
   "id": "2d648311-e762-41b6-8ecd-0b7cb182ec16",
   "metadata": {},
   "outputs": [
    {
     "name": "stdout",
     "output_type": "stream",
     "text": [
      "0.9468085106382979\n",
      "              precision    recall  f1-score   support\n",
      "\n",
      "           0       0.96      0.96      0.96       121\n",
      "           1       0.93      0.93      0.93        67\n",
      "\n",
      "    accuracy                           0.95       188\n",
      "   macro avg       0.94      0.94      0.94       188\n",
      "weighted avg       0.95      0.95      0.95       188\n",
      "\n"
     ]
    }
   ],
   "source": [
    "X_test_filt = X_test.loc[:,X_train_filt.columns]\n",
    "\n",
    "clf = RandomForestClassifier(random_state=42)\n",
    "clf.fit(X_train_filt, y_train)\n",
    "\n",
    "pred_f = clf.predict(X_test_filt)\n",
    "\n",
    "print(accuracy_score(y_test, pred_f))\n",
    "print(classification_report(y_test, pred_f))"
   ]
  },
  {
   "cell_type": "code",
   "execution_count": 29,
   "id": "e8ec5cb7-ce81-4c88-8ccb-c568a0c5dedf",
   "metadata": {},
   "outputs": [
    {
     "name": "stdout",
     "output_type": "stream",
     "text": [
      "0.9468085106382979\n",
      "              precision    recall  f1-score   support\n",
      "\n",
      "           0       0.95      0.97      0.96       121\n",
      "           1       0.94      0.91      0.92        67\n",
      "\n",
      "    accuracy                           0.95       188\n",
      "   macro avg       0.94      0.94      0.94       188\n",
      "weighted avg       0.95      0.95      0.95       188\n",
      "\n"
     ]
    }
   ],
   "source": [
    "# X_test_wrap = rfe.transform(X_test)\n",
    "X_test_wrap = X_test.loc[:,X_train_wrap.columns]\n",
    "\n",
    "clf = RandomForestClassifier(random_state=42)\n",
    "clf.fit(X_train_wrap, y_train)\n",
    "\n",
    "pred_w = clf.predict(X_test_wrap)\n",
    "\n",
    "print(accuracy_score(y_test, pred_w))\n",
    "print(classification_report(y_test, pred_w))"
   ]
  },
  {
   "cell_type": "markdown",
   "id": "59be9cd6-b4a1-46d7-b764-7bee251c4bcb",
   "metadata": {},
   "source": [
    "- Pretty incredible! Very little loss in accuracy/f1 between the 30 feature test sets and the 5 feature test sets. \n",
    "- Also notable, filter and wrapper methods selected only 3 of 5 features the same, but produced nearly identical classification metrics when fed to the model."
   ]
  }
 ],
 "metadata": {
  "kernelspec": {
   "display_name": "Python 3 (ipykernel)",
   "language": "python",
   "name": "python3"
  },
  "language_info": {
   "codemirror_mode": {
    "name": "ipython",
    "version": 3
   },
   "file_extension": ".py",
   "mimetype": "text/x-python",
   "name": "python",
   "nbconvert_exporter": "python",
   "pygments_lexer": "ipython3",
   "version": "3.8.11"
  }
 },
 "nbformat": 4,
 "nbformat_minor": 5
}
